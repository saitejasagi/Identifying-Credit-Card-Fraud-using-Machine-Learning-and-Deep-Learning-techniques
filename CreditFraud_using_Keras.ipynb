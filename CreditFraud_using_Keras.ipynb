{
  "nbformat": 4,
  "nbformat_minor": 0,
  "metadata": {
    "colab": {
      "name": "Copy of CreditFraud using Keras.ipynb",
      "provenance": [],
      "collapsed_sections": []
    },
    "kernelspec": {
      "name": "python3",
      "display_name": "Python 3"
    }
  },
  "cells": [
    {
      "cell_type": "code",
      "metadata": {
        "id": "GqrUNQ-59OJb",
        "colab_type": "code",
        "outputId": "8a731181-b924-46e4-91b1-a80cb6fcfe0e",
        "colab": {
          "base_uri": "https://localhost:8080/",
          "height": 52
        }
      },
      "source": [
        "#import all the necessary libraries\n",
        "import pandas as pd\n",
        "import numpy as np\n",
        "import matplotlib.pyplot as plt\n",
        "\n",
        "import tensorflow as tf\n",
        "print(tf.__version__)\n",
        "import keras    \n",
        "from keras.models import Sequential\n",
        "from keras.layers import Dense"
      ],
      "execution_count": 0,
      "outputs": [
        {
          "output_type": "stream",
          "text": [
            "2.2.0-rc4\n"
          ],
          "name": "stdout"
        },
        {
          "output_type": "stream",
          "text": [
            "Using TensorFlow backend.\n"
          ],
          "name": "stderr"
        }
      ]
    },
    {
      "cell_type": "code",
      "metadata": {
        "id": "d5OCLU_u9dVx",
        "colab_type": "code",
        "colab": {}
      },
      "source": [
        "#read the data. I have already standarized, SMOTETOMEK oversampled and randomly split the data to 72:25 proportion. \n",
        "train = pd.read_csv(\"/content/SMOTE_TRAIN.CSV\")\n",
        "test = pd.read_csv(\"/content/test.CSV\")"
      ],
      "execution_count": 0,
      "outputs": []
    },
    {
      "cell_type": "code",
      "metadata": {
        "id": "E4B0eID89lO5",
        "colab_type": "code",
        "outputId": "edaa8c7c-5387-47e3-832e-274096533044",
        "colab": {
          "base_uri": "https://localhost:8080/",
          "height": 215
        }
      },
      "source": [
        "train.head()"
      ],
      "execution_count": 0,
      "outputs": [
        {
          "output_type": "execute_result",
          "data": {
            "text/html": [
              "<div>\n",
              "<style scoped>\n",
              "    .dataframe tbody tr th:only-of-type {\n",
              "        vertical-align: middle;\n",
              "    }\n",
              "\n",
              "    .dataframe tbody tr th {\n",
              "        vertical-align: top;\n",
              "    }\n",
              "\n",
              "    .dataframe thead th {\n",
              "        text-align: right;\n",
              "    }\n",
              "</style>\n",
              "<table border=\"1\" class=\"dataframe\">\n",
              "  <thead>\n",
              "    <tr style=\"text-align: right;\">\n",
              "      <th></th>\n",
              "      <th>V1</th>\n",
              "      <th>V2</th>\n",
              "      <th>V3</th>\n",
              "      <th>V4</th>\n",
              "      <th>V5</th>\n",
              "      <th>V6</th>\n",
              "      <th>V7</th>\n",
              "      <th>V8</th>\n",
              "      <th>V9</th>\n",
              "      <th>V10</th>\n",
              "      <th>V11</th>\n",
              "      <th>V12</th>\n",
              "      <th>V13</th>\n",
              "      <th>V14</th>\n",
              "      <th>V15</th>\n",
              "      <th>V16</th>\n",
              "      <th>V17</th>\n",
              "      <th>V18</th>\n",
              "      <th>V19</th>\n",
              "      <th>V20</th>\n",
              "      <th>V21</th>\n",
              "      <th>V22</th>\n",
              "      <th>V23</th>\n",
              "      <th>V24</th>\n",
              "      <th>V25</th>\n",
              "      <th>V26</th>\n",
              "      <th>V27</th>\n",
              "      <th>V28</th>\n",
              "      <th>Amount</th>\n",
              "      <th>Class</th>\n",
              "    </tr>\n",
              "  </thead>\n",
              "  <tbody>\n",
              "    <tr>\n",
              "      <th>0</th>\n",
              "      <td>0.011068</td>\n",
              "      <td>0.672004</td>\n",
              "      <td>-0.939272</td>\n",
              "      <td>-0.345831</td>\n",
              "      <td>0.736893</td>\n",
              "      <td>-0.194330</td>\n",
              "      <td>0.535538</td>\n",
              "      <td>0.249765</td>\n",
              "      <td>-0.455568</td>\n",
              "      <td>-0.961957</td>\n",
              "      <td>-0.120290</td>\n",
              "      <td>0.373784</td>\n",
              "      <td>0.646826</td>\n",
              "      <td>-0.492699</td>\n",
              "      <td>-0.008469</td>\n",
              "      <td>0.852534</td>\n",
              "      <td>-0.205100</td>\n",
              "      <td>1.943101</td>\n",
              "      <td>0.740871</td>\n",
              "      <td>-0.099216</td>\n",
              "      <td>0.451002</td>\n",
              "      <td>1.242712</td>\n",
              "      <td>-0.406219</td>\n",
              "      <td>-2.383611</td>\n",
              "      <td>-0.306647</td>\n",
              "      <td>-0.187582</td>\n",
              "      <td>-0.037876</td>\n",
              "      <td>0.056387</td>\n",
              "      <td>-0.200850</td>\n",
              "      <td>0</td>\n",
              "    </tr>\n",
              "    <tr>\n",
              "      <th>1</th>\n",
              "      <td>-0.171802</td>\n",
              "      <td>0.667620</td>\n",
              "      <td>0.842058</td>\n",
              "      <td>0.047052</td>\n",
              "      <td>-0.017893</td>\n",
              "      <td>-0.745167</td>\n",
              "      <td>0.544538</td>\n",
              "      <td>-0.034197</td>\n",
              "      <td>-0.273403</td>\n",
              "      <td>-0.453668</td>\n",
              "      <td>-0.313212</td>\n",
              "      <td>-0.410203</td>\n",
              "      <td>-0.501314</td>\n",
              "      <td>-0.321761</td>\n",
              "      <td>1.051917</td>\n",
              "      <td>0.471795</td>\n",
              "      <td>0.048778</td>\n",
              "      <td>-0.073011</td>\n",
              "      <td>-0.104557</td>\n",
              "      <td>0.096887</td>\n",
              "      <td>-0.370656</td>\n",
              "      <td>-1.020303</td>\n",
              "      <td>-0.018123</td>\n",
              "      <td>0.515668</td>\n",
              "      <td>-0.347139</td>\n",
              "      <td>0.154590</td>\n",
              "      <td>0.594596</td>\n",
              "      <td>0.298501</td>\n",
              "      <td>-0.345702</td>\n",
              "      <td>0</td>\n",
              "    </tr>\n",
              "    <tr>\n",
              "      <th>2</th>\n",
              "      <td>-0.126808</td>\n",
              "      <td>0.499145</td>\n",
              "      <td>0.124836</td>\n",
              "      <td>-0.508023</td>\n",
              "      <td>0.152991</td>\n",
              "      <td>-0.616567</td>\n",
              "      <td>0.617461</td>\n",
              "      <td>0.069294</td>\n",
              "      <td>0.176808</td>\n",
              "      <td>0.105910</td>\n",
              "      <td>0.555975</td>\n",
              "      <td>-0.223779</td>\n",
              "      <td>-2.180824</td>\n",
              "      <td>0.691689</td>\n",
              "      <td>-0.892594</td>\n",
              "      <td>0.113695</td>\n",
              "      <td>-0.545502</td>\n",
              "      <td>-0.154879</td>\n",
              "      <td>0.104938</td>\n",
              "      <td>-0.054082</td>\n",
              "      <td>-0.344201</td>\n",
              "      <td>-0.843687</td>\n",
              "      <td>0.179235</td>\n",
              "      <td>-0.081430</td>\n",
              "      <td>-1.081149</td>\n",
              "      <td>0.275481</td>\n",
              "      <td>0.841665</td>\n",
              "      <td>0.438428</td>\n",
              "      <td>-0.320195</td>\n",
              "      <td>0</td>\n",
              "    </tr>\n",
              "    <tr>\n",
              "      <th>3</th>\n",
              "      <td>-0.020276</td>\n",
              "      <td>0.353251</td>\n",
              "      <td>-0.098430</td>\n",
              "      <td>-0.417469</td>\n",
              "      <td>0.744346</td>\n",
              "      <td>-0.046613</td>\n",
              "      <td>0.636477</td>\n",
              "      <td>-0.005219</td>\n",
              "      <td>-0.013437</td>\n",
              "      <td>-0.326958</td>\n",
              "      <td>-0.263258</td>\n",
              "      <td>0.102974</td>\n",
              "      <td>-0.750200</td>\n",
              "      <td>0.546796</td>\n",
              "      <td>-0.504828</td>\n",
              "      <td>-0.035562</td>\n",
              "      <td>-0.928253</td>\n",
              "      <td>0.470463</td>\n",
              "      <td>1.382165</td>\n",
              "      <td>-0.233855</td>\n",
              "      <td>-0.250802</td>\n",
              "      <td>-0.699250</td>\n",
              "      <td>-0.010929</td>\n",
              "      <td>-2.006373</td>\n",
              "      <td>-0.701570</td>\n",
              "      <td>-1.115319</td>\n",
              "      <td>-0.090285</td>\n",
              "      <td>0.136319</td>\n",
              "      <td>-0.316058</td>\n",
              "      <td>0</td>\n",
              "    </tr>\n",
              "    <tr>\n",
              "      <th>4</th>\n",
              "      <td>-2.470840</td>\n",
              "      <td>2.030383</td>\n",
              "      <td>-2.060765</td>\n",
              "      <td>-0.159184</td>\n",
              "      <td>-1.545050</td>\n",
              "      <td>-0.935953</td>\n",
              "      <td>-1.128701</td>\n",
              "      <td>1.885118</td>\n",
              "      <td>0.135228</td>\n",
              "      <td>0.183920</td>\n",
              "      <td>-1.935139</td>\n",
              "      <td>0.715385</td>\n",
              "      <td>-0.463997</td>\n",
              "      <td>1.952669</td>\n",
              "      <td>-0.411245</td>\n",
              "      <td>0.197632</td>\n",
              "      <td>1.164980</td>\n",
              "      <td>-0.654293</td>\n",
              "      <td>0.573042</td>\n",
              "      <td>-1.492274</td>\n",
              "      <td>0.245561</td>\n",
              "      <td>-0.415914</td>\n",
              "      <td>0.828651</td>\n",
              "      <td>-0.030070</td>\n",
              "      <td>-1.700655</td>\n",
              "      <td>0.060414</td>\n",
              "      <td>-6.562047</td>\n",
              "      <td>-1.718740</td>\n",
              "      <td>-0.234995</td>\n",
              "      <td>0</td>\n",
              "    </tr>\n",
              "  </tbody>\n",
              "</table>\n",
              "</div>"
            ],
            "text/plain": [
              "         V1        V2        V3        V4  ...       V27       V28    Amount  Class\n",
              "0  0.011068  0.672004 -0.939272 -0.345831  ... -0.037876  0.056387 -0.200850      0\n",
              "1 -0.171802  0.667620  0.842058  0.047052  ...  0.594596  0.298501 -0.345702      0\n",
              "2 -0.126808  0.499145  0.124836 -0.508023  ...  0.841665  0.438428 -0.320195      0\n",
              "3 -0.020276  0.353251 -0.098430 -0.417469  ... -0.090285  0.136319 -0.316058      0\n",
              "4 -2.470840  2.030383 -2.060765 -0.159184  ... -6.562047 -1.718740 -0.234995      0\n",
              "\n",
              "[5 rows x 30 columns]"
            ]
          },
          "metadata": {
            "tags": []
          },
          "execution_count": 3
        }
      ]
    },
    {
      "cell_type": "markdown",
      "metadata": {
        "id": "j48vu4r1o1o0",
        "colab_type": "text"
      },
      "source": [
        "We have 29 predictor variables and 1 binary target variable in the last column of our datasets."
      ]
    },
    {
      "cell_type": "code",
      "metadata": {
        "id": "_ZJZNKF19nCv",
        "colab_type": "code",
        "colab": {}
      },
      "source": [
        "#convert the data into features and labels. Then, convert the features and labels to numpy arrays.\n",
        "X_train = train.iloc[:, :-1].values\n",
        "y_train = train['Class'].values\n",
        "X_test = test.iloc[:, :-1].values\n",
        "y_test = test['Class'].values"
      ],
      "execution_count": 0,
      "outputs": []
    },
    {
      "cell_type": "markdown",
      "metadata": {
        "id": "yepn3csabMDX",
        "colab_type": "text"
      },
      "source": [
        "Build a keras model. We are using binary crossentropy as the error metric and sgd as the optimizer. I have built 4 hidden fully connected layers besides the input and output layers. I used sigmoid activation function for the output layer because the target class is binary. I ran the model for 10 epochs"
      ]
    },
    {
      "cell_type": "code",
      "metadata": {
        "id": "eckSBiDT-VgM",
        "colab_type": "code",
        "outputId": "ccc35039-641d-493b-b38c-4abe74f70ae8",
        "colab": {
          "base_uri": "https://localhost:8080/",
          "height": 386
        }
      },
      "source": [
        "#initialize with sequential\n",
        "model = Sequential()\n",
        "\n",
        "#add a fully connected layer with 100 neurons\n",
        "model.add(Dense(100, activation='relu', input_shape=(29,)))\n",
        "\n",
        "#add another fully connected layer with 100 neurons\n",
        "model.add(Dense(100, activation='relu'))\n",
        "\n",
        "#add another fully connected layer with 85 neurons\n",
        "model.add(Dense(85, activation='relu'))\n",
        "\n",
        "#add another fully connected layer with 50 neurons\n",
        "model.add(Dense(50, activation='relu'))\n",
        "\n",
        "#add another fully connected layer with 12 neurons\n",
        "model.add(Dense(12, activation='relu'))\n",
        "\n",
        "#add an output layer with 1 neuron and use sigmoid activation function\n",
        "model.add(Dense(1, activation='sigmoid'))\n",
        "\n",
        "#compile the model\n",
        "model.compile(loss='binary_crossentropy',\n",
        "              optimizer='sgd',\n",
        "              metrics=['accuracy'])\n",
        "                   \n",
        "history = model.fit(X_train, y_train,epochs=10, batch_size=1, validation_data=(X_test, y_test), verbose=1)"
      ],
      "execution_count": 0,
      "outputs": [
        {
          "output_type": "stream",
          "text": [
            "Train on 426472 samples, validate on 71202 samples\n",
            "Epoch 1/10\n",
            "426472/426472 [==============================] - 554s 1ms/step - loss: 0.0152 - accuracy: 0.9954 - val_loss: 0.0083 - val_accuracy: 0.9984\n",
            "Epoch 2/10\n",
            "426472/426472 [==============================] - 559s 1ms/step - loss: 0.0044 - accuracy: 0.9990 - val_loss: 0.0090 - val_accuracy: 0.9983\n",
            "Epoch 3/10\n",
            "426472/426472 [==============================] - 556s 1ms/step - loss: 0.0030 - accuracy: 0.9993 - val_loss: 0.0152 - val_accuracy: 0.9968\n",
            "Epoch 4/10\n",
            "426472/426472 [==============================] - 556s 1ms/step - loss: 0.0027 - accuracy: 0.9994 - val_loss: 0.0067 - val_accuracy: 0.9989\n",
            "Epoch 5/10\n",
            "426472/426472 [==============================] - 556s 1ms/step - loss: 0.0021 - accuracy: 0.9996 - val_loss: 0.0072 - val_accuracy: 0.9987\n",
            "Epoch 6/10\n",
            "426472/426472 [==============================] - 559s 1ms/step - loss: 0.0020 - accuracy: 0.9996 - val_loss: 0.0073 - val_accuracy: 0.9990\n",
            "Epoch 7/10\n",
            "426472/426472 [==============================] - 557s 1ms/step - loss: 0.0016 - accuracy: 0.9997 - val_loss: 0.0067 - val_accuracy: 0.9991\n",
            "Epoch 8/10\n",
            "426472/426472 [==============================] - 557s 1ms/step - loss: 0.0029 - accuracy: 0.9994 - val_loss: 0.0068 - val_accuracy: 0.9991\n",
            "Epoch 9/10\n",
            "426472/426472 [==============================] - 553s 1ms/step - loss: 0.0020 - accuracy: 0.9996 - val_loss: 0.0079 - val_accuracy: 0.9991\n",
            "Epoch 10/10\n",
            "426472/426472 [==============================] - 551s 1ms/step - loss: 0.0019 - accuracy: 0.9996 - val_loss: 0.0072 - val_accuracy: 0.9992\n"
          ],
          "name": "stdout"
        }
      ]
    },
    {
      "cell_type": "code",
      "metadata": {
        "id": "IGHaaok1-rqX",
        "colab_type": "code",
        "outputId": "10b7d423-7c5b-43da-e990-8c5e45492710",
        "colab": {
          "base_uri": "https://localhost:8080/",
          "height": 87
        }
      },
      "source": [
        "#calculate the training and validation errors\n",
        "scores_train = model.evaluate(X_train, y_train, verbose=0)\n",
        "print('Accuracy on training data: {}% \\n Error on training data: {}%'.format(scores_train[1], 1 - scores_train[1]))   \n",
        " \n",
        "scores_test = model.evaluate(X_test, y_test, verbose=0)\n",
        "print('Accuracy on test data: {}% \\n Error on test data: {}%'.format(scores_test[1], 1 - scores_test[1]))   "
      ],
      "execution_count": 0,
      "outputs": [
        {
          "output_type": "stream",
          "text": [
            "Accuracy on training data: 0.9992777705192566% \n",
            " Error on training data: 0.0007222294807434082\n",
            "Accuracy on test data: 0.9987781047821045% \n",
            " Error on test data: 0.0012218952178955078\n"
          ],
          "name": "stdout"
        }
      ]
    },
    {
      "cell_type": "markdown",
      "metadata": {
        "id": "N0vhbgwRbyXN",
        "colab_type": "text"
      },
      "source": [
        "Define a function to plot the history of validation accuracy and validation loss for the epochs run."
      ]
    },
    {
      "cell_type": "code",
      "metadata": {
        "id": "SBI3y1F__EGI",
        "colab_type": "code",
        "colab": {}
      },
      "source": [
        "plt.style.use('ggplot')\n",
        "\n",
        "def plot_performance_history(history):\n",
        "    acc = history.history['accuracy']\n",
        "    val_acc = history.history['val_accuracy']\n",
        "    loss = history.history['loss']\n",
        "    val_loss = history.history['val_loss']\n",
        "    x = range(1, len(acc) + 1)\n",
        "\n",
        "    plt.figure(figsize=(10, 6))\n",
        "    plt.subplot(1, 2, 1)\n",
        "    plt.plot(x, acc, 'b', label='Training acc')\n",
        "    plt.plot(x, val_acc, 'r', label='Validation acc')\n",
        "    plt.title('Training and validation accuracy')\n",
        "    plt.legend()\n",
        "    plt.subplot(1, 2, 2)\n",
        "    plt.plot(x, loss, 'b', label='Training loss')\n",
        "    plt.plot(x, val_loss, 'r', label='Validation loss')\n",
        "    plt.title('Training and validation loss')\n",
        "    plt.legend()\n",
        "    plt.show()"
      ],
      "execution_count": 0,
      "outputs": []
    },
    {
      "cell_type": "code",
      "metadata": {
        "id": "kV6AnWSb_HQH",
        "colab_type": "code",
        "outputId": "e62733e0-7180-439d-992e-23fca35ba79c",
        "colab": {
          "base_uri": "https://localhost:8080/",
          "height": 337
        }
      },
      "source": [
        "plot_performance_history(history)"
      ],
      "execution_count": 0,
      "outputs": [
        {
          "output_type": "display_data",
          "data": {
            "image/png": "[encoded data removed]",
            "text/plain": [
              "<Figure size 864x360 with 2 Axes>"
            ]
          },
          "metadata": {
            "tags": []
          }
        }
      ]
    },
    {
      "cell_type": "markdown",
      "metadata": {
        "id": "zMqAdWuAnkfw",
        "colab_type": "text"
      },
      "source": [
        "From the above graphs, it seems that the training and validation accuracy started entering a plateau phase after 6 epochs. The validation accuracy is 99.92% and training accuracy is 99.96%. There is not much of a difference and the model is not overfitting. "
      ]
    },
    {
      "cell_type": "markdown",
      "metadata": {
        "id": "2WTb32gwotZI",
        "colab_type": "text"
      },
      "source": [
        "We may get even more accuracy but I think this is enough given the computational cost."
      ]
    },
    {
      "cell_type": "code",
      "metadata": {
        "id": "enJZxcRaot9S",
        "colab_type": "code",
        "colab": {}
      },
      "source": [
        ""
      ],
      "execution_count": 0,
      "outputs": []
    }
  ]
}